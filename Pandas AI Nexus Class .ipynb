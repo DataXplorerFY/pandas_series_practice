{
 "cells": [
  {
   "cell_type": "code",
   "execution_count": 1,
   "id": "58ab7a7a",
   "metadata": {},
   "outputs": [],
   "source": [
    "#Pandas >>>> Series , DataFrame"
   ]
  },
  {
   "cell_type": "code",
   "execution_count": 2,
   "id": "eb63354a",
   "metadata": {},
   "outputs": [],
   "source": [
    "import pandas as pd"
   ]
  },
  {
   "cell_type": "code",
   "execution_count": 3,
   "id": "6688d29d",
   "metadata": {},
   "outputs": [],
   "source": [
    "obj=pd.Series([4,5,6,7])"
   ]
  },
  {
   "cell_type": "code",
   "execution_count": 4,
   "id": "3fe4bc1a",
   "metadata": {},
   "outputs": [
    {
     "data": {
      "text/plain": [
       "0    4\n",
       "1    5\n",
       "2    6\n",
       "3    7\n",
       "dtype: int64"
      ]
     },
     "execution_count": 4,
     "metadata": {},
     "output_type": "execute_result"
    }
   ],
   "source": [
    "obj"
   ]
  },
  {
   "cell_type": "code",
   "execution_count": 5,
   "id": "fdd47c18",
   "metadata": {},
   "outputs": [],
   "source": [
    "# value\n",
    "# index"
   ]
  },
  {
   "cell_type": "code",
   "execution_count": 6,
   "id": "5497783e",
   "metadata": {},
   "outputs": [],
   "source": [
    "sales= pd.Series([100,200,400,500])"
   ]
  },
  {
   "cell_type": "code",
   "execution_count": 7,
   "id": "b88c288a",
   "metadata": {},
   "outputs": [
    {
     "data": {
      "text/plain": [
       "0    100\n",
       "1    200\n",
       "2    400\n",
       "3    500\n",
       "dtype: int64"
      ]
     },
     "execution_count": 7,
     "metadata": {},
     "output_type": "execute_result"
    }
   ],
   "source": [
    "sales"
   ]
  },
  {
   "cell_type": "code",
   "execution_count": 8,
   "id": "12bdce55",
   "metadata": {},
   "outputs": [
    {
     "data": {
      "text/plain": [
       "array([100, 200, 400, 500], dtype=int64)"
      ]
     },
     "execution_count": 8,
     "metadata": {},
     "output_type": "execute_result"
    }
   ],
   "source": [
    "sales.values"
   ]
  },
  {
   "cell_type": "code",
   "execution_count": 9,
   "id": "b8ee5c9b",
   "metadata": {},
   "outputs": [
    {
     "data": {
      "text/plain": [
       "RangeIndex(start=0, stop=4, step=1)"
      ]
     },
     "execution_count": 9,
     "metadata": {},
     "output_type": "execute_result"
    }
   ],
   "source": [
    "sales.index"
   ]
  },
  {
   "cell_type": "code",
   "execution_count": 12,
   "id": "e0ebc4ab",
   "metadata": {},
   "outputs": [],
   "source": [
    "sales=pd.Series([6562,6529,6520,6530],index=[\"Farhan\",\"Daud\",\"Ali\",\"Asad\"], name=\"BSSE Class Data\")"
   ]
  },
  {
   "cell_type": "code",
   "execution_count": 14,
   "id": "845aa7f2",
   "metadata": {},
   "outputs": [
    {
     "data": {
      "text/plain": [
       "Farhan    6562\n",
       "Daud      6529\n",
       "Ali       6520\n",
       "Asad      6530\n",
       "Name: BSSE Class Data, dtype: int64"
      ]
     },
     "execution_count": 14,
     "metadata": {},
     "output_type": "execute_result"
    }
   ],
   "source": [
    "sales"
   ]
  },
  {
   "cell_type": "markdown",
   "id": "07753ca5",
   "metadata": {},
   "source": [
    "# canteen 7 data...how many sandwich are sold each day"
   ]
  },
  {
   "cell_type": "code",
   "execution_count": 15,
   "id": "40fdf263",
   "metadata": {},
   "outputs": [],
   "source": [
    "canteen_data=pd.Series([20,30,40,50,5,40,60],index=[\"Monday\",\"Tuesday\",\"Wednesday\",\"Thursday\",\"Friday\",\"Saturday\",\"Sunday\"])"
   ]
  },
  {
   "cell_type": "code",
   "execution_count": 16,
   "id": "b29291a0",
   "metadata": {},
   "outputs": [
    {
     "data": {
      "text/plain": [
       "Monday       20\n",
       "Tuesday      30\n",
       "Wednesday    40\n",
       "Thursday     50\n",
       "Friday        5\n",
       "Saturday     40\n",
       "Sunday       60\n",
       "dtype: int64"
      ]
     },
     "execution_count": 16,
     "metadata": {},
     "output_type": "execute_result"
    }
   ],
   "source": [
    "canteen_data"
   ]
  },
  {
   "cell_type": "markdown",
   "id": "5786170e",
   "metadata": {},
   "source": [
    "# Access data"
   ]
  },
  {
   "cell_type": "code",
   "execution_count": 17,
   "id": "ef1d8c58",
   "metadata": {},
   "outputs": [
    {
     "data": {
      "text/plain": [
       "30"
      ]
     },
     "execution_count": 17,
     "metadata": {},
     "output_type": "execute_result"
    }
   ],
   "source": [
    "canteen_data[1]"
   ]
  },
  {
   "cell_type": "code",
   "execution_count": 18,
   "id": "42188aeb",
   "metadata": {},
   "outputs": [
    {
     "data": {
      "text/plain": [
       "50"
      ]
     },
     "execution_count": 18,
     "metadata": {},
     "output_type": "execute_result"
    }
   ],
   "source": [
    "canteen_data[3]"
   ]
  },
  {
   "cell_type": "code",
   "execution_count": 19,
   "id": "fd6b1500",
   "metadata": {},
   "outputs": [
    {
     "data": {
      "text/plain": [
       "20"
      ]
     },
     "execution_count": 19,
     "metadata": {},
     "output_type": "execute_result"
    }
   ],
   "source": [
    "canteen_data[\"Monday\"]"
   ]
  },
  {
   "cell_type": "code",
   "execution_count": 20,
   "id": "1b00c190",
   "metadata": {},
   "outputs": [],
   "source": [
    "# to get multiple values then we use "
   ]
  },
  {
   "cell_type": "code",
   "execution_count": 21,
   "id": "88271baa",
   "metadata": {},
   "outputs": [
    {
     "data": {
      "text/plain": [
       "Monday       20\n",
       "Wednesday    40\n",
       "Friday        5\n",
       "dtype: int64"
      ]
     },
     "execution_count": 21,
     "metadata": {},
     "output_type": "execute_result"
    }
   ],
   "source": [
    "canteen_data[[0,2,4]]"
   ]
  },
  {
   "cell_type": "code",
   "execution_count": 22,
   "id": "9f4429b6",
   "metadata": {},
   "outputs": [
    {
     "data": {
      "text/plain": [
       "Monday       False\n",
       "Tuesday      False\n",
       "Wednesday     True\n",
       "Thursday      True\n",
       "Friday       False\n",
       "Saturday      True\n",
       "Sunday        True\n",
       "dtype: bool"
      ]
     },
     "execution_count": 22,
     "metadata": {},
     "output_type": "execute_result"
    }
   ],
   "source": [
    "canteen_data>30"
   ]
  },
  {
   "cell_type": "markdown",
   "id": "b425f091",
   "metadata": {},
   "source": [
    "# Modify Data By +,-,*,/\n"
   ]
  },
  {
   "cell_type": "code",
   "execution_count": 23,
   "id": "26b1bb2f",
   "metadata": {},
   "outputs": [
    {
     "data": {
      "text/plain": [
       "Monday        40\n",
       "Tuesday       60\n",
       "Wednesday     80\n",
       "Thursday     100\n",
       "Friday        10\n",
       "Saturday      80\n",
       "Sunday       120\n",
       "dtype: int64"
      ]
     },
     "execution_count": 23,
     "metadata": {},
     "output_type": "execute_result"
    }
   ],
   "source": [
    "canteen_data*2"
   ]
  },
  {
   "cell_type": "code",
   "execution_count": 24,
   "id": "261a02d4",
   "metadata": {},
   "outputs": [
    {
     "data": {
      "text/plain": [
       "Monday       18\n",
       "Tuesday      28\n",
       "Wednesday    38\n",
       "Thursday     48\n",
       "Friday        3\n",
       "Saturday     38\n",
       "Sunday       58\n",
       "dtype: int64"
      ]
     },
     "execution_count": 24,
     "metadata": {},
     "output_type": "execute_result"
    }
   ],
   "source": [
    "canteen_data-2"
   ]
  },
  {
   "cell_type": "code",
   "execution_count": 25,
   "id": "a33a05d4",
   "metadata": {},
   "outputs": [
    {
     "data": {
      "text/plain": [
       "Monday       20\n",
       "Tuesday      30\n",
       "Wednesday    40\n",
       "Thursday     50\n",
       "Friday        5\n",
       "Saturday     40\n",
       "Sunday       60\n",
       "dtype: int64"
      ]
     },
     "execution_count": 25,
     "metadata": {},
     "output_type": "execute_result"
    }
   ],
   "source": [
    "canteen_data"
   ]
  },
  {
   "cell_type": "code",
   "execution_count": 27,
   "id": "077d9127",
   "metadata": {},
   "outputs": [
    {
     "data": {
      "text/plain": [
       "True"
      ]
     },
     "execution_count": 27,
     "metadata": {},
     "output_type": "execute_result"
    }
   ],
   "source": [
    "\"Monday\" in canteen_data"
   ]
  },
  {
   "cell_type": "code",
   "execution_count": 29,
   "id": "2b575636",
   "metadata": {},
   "outputs": [],
   "source": [
    "import numpy as np"
   ]
  },
  {
   "cell_type": "code",
   "execution_count": 30,
   "id": "dfc50b61",
   "metadata": {},
   "outputs": [],
   "source": [
    "array=np.array([1,2,3,4,5,6])"
   ]
  },
  {
   "cell_type": "code",
   "execution_count": 31,
   "id": "bbea4ffa",
   "metadata": {},
   "outputs": [
    {
     "data": {
      "text/plain": [
       "array([1, 2, 3, 4, 5, 6])"
      ]
     },
     "execution_count": 31,
     "metadata": {},
     "output_type": "execute_result"
    }
   ],
   "source": [
    "array"
   ]
  },
  {
   "cell_type": "code",
   "execution_count": 32,
   "id": "2da11a96",
   "metadata": {},
   "outputs": [],
   "source": [
    "series=pd.Series(array)"
   ]
  },
  {
   "cell_type": "code",
   "execution_count": 33,
   "id": "bd3a2058",
   "metadata": {},
   "outputs": [
    {
     "data": {
      "text/plain": [
       "0    1\n",
       "1    2\n",
       "2    3\n",
       "3    4\n",
       "4    5\n",
       "5    6\n",
       "dtype: int32"
      ]
     },
     "execution_count": 33,
     "metadata": {},
     "output_type": "execute_result"
    }
   ],
   "source": [
    "series"
   ]
  },
  {
   "cell_type": "markdown",
   "id": "d9d7cd2e",
   "metadata": {},
   "source": [
    "# From Dict to Pandas series"
   ]
  },
  {
   "cell_type": "code",
   "execution_count": 34,
   "id": "3aecd492",
   "metadata": {},
   "outputs": [],
   "source": [
    "Student_Data={\"Farhan\":6562, \"Daud\":6529, \"Dua\":6500, \"Yashal\":6798, \"Javeria\":4500 ,\"Arooj\":2002 , \"Ali\":7800, \"Alina\":9800,\"Madiha\":8900}"
   ]
  },
  {
   "cell_type": "code",
   "execution_count": 35,
   "id": "ad9fa279",
   "metadata": {},
   "outputs": [],
   "source": [
    "Student_Series=pd.Series(Student_Data)"
   ]
  },
  {
   "cell_type": "code",
   "execution_count": 36,
   "id": "92d7aef3",
   "metadata": {},
   "outputs": [
    {
     "data": {
      "text/plain": [
       "Farhan     6562\n",
       "Daud       6529\n",
       "Dua        6500\n",
       "Yashal     6798\n",
       "Javeria    4500\n",
       "Arooj      2002\n",
       "Ali        7800\n",
       "Alina      9800\n",
       "Madiha     8900\n",
       "dtype: int64"
      ]
     },
     "execution_count": 36,
     "metadata": {},
     "output_type": "execute_result"
    }
   ],
   "source": [
    "Student_Series"
   ]
  },
  {
   "cell_type": "markdown",
   "id": "2ae01201",
   "metadata": {},
   "source": [
    "# Task How to add 2 different Series and what is the concept behind this ?"
   ]
  },
  {
   "cell_type": "code",
   "execution_count": null,
   "id": "e0b2463f",
   "metadata": {},
   "outputs": [],
   "source": []
  }
 ],
 "metadata": {
  "kernelspec": {
   "display_name": "Python 3 (ipykernel)",
   "language": "python",
   "name": "python3"
  },
  "language_info": {
   "codemirror_mode": {
    "name": "ipython",
    "version": 3
   },
   "file_extension": ".py",
   "mimetype": "text/x-python",
   "name": "python",
   "nbconvert_exporter": "python",
   "pygments_lexer": "ipython3",
   "version": "3.9.7"
  }
 },
 "nbformat": 4,
 "nbformat_minor": 5
}
