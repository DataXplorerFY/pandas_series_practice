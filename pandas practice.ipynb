{
 "cells": [
  {
   "cell_type": "code",
   "execution_count": 1,
   "id": "02cd5d9c",
   "metadata": {},
   "outputs": [],
   "source": [
    "import numpy as np\n",
    "import pandas as pd\n"
   ]
  },
  {
   "cell_type": "code",
   "execution_count": 2,
   "id": "d9d325ee",
   "metadata": {},
   "outputs": [],
   "source": [
    "# Create a NumPy array\n",
    "data = np.array([\n",
    "    [1, 2, 3],\n",
    "    [4, 5, 6],\n",
    "    [7, 8, 9]\n",
    "])\n",
    "\n",
    "# Create column labels\n",
    "columns = ['A', 'B', 'C']\n",
    "\n",
    "# Create a pandas DataFrame\n",
    "df = pd.DataFrame(data, columns=columns)\n"
   ]
  },
  {
   "cell_type": "code",
   "execution_count": 3,
   "id": "234adbfe",
   "metadata": {},
   "outputs": [
    {
     "name": "stdout",
     "output_type": "stream",
     "text": [
      "   A  B  C\n",
      "0  1  2  3\n",
      "1  4  5  6\n",
      "2  7  8  9\n",
      "Column means:\n",
      "A    4.0\n",
      "B    5.0\n",
      "C    6.0\n",
      "dtype: float64\n",
      "Row sums:\n",
      "0     6\n",
      "1    15\n",
      "2    24\n",
      "dtype: int64\n",
      "Column maximums:\n",
      "A    7\n",
      "B    8\n",
      "C    9\n",
      "dtype: int32\n"
     ]
    }
   ],
   "source": [
    "# Display the DataFrame\n",
    "print(df)\n",
    "\n",
    "# Calculate the mean of each column\n",
    "column_means = df.mean()\n",
    "print(\"Column means:\")\n",
    "print(column_means)\n",
    "\n",
    "# Calculate the sum of each row\n",
    "row_sums = df.sum(axis=1)\n",
    "print(\"Row sums:\")\n",
    "print(row_sums)\n",
    "\n",
    "# Calculate the maximum value in each column\n",
    "column_max = df.max()\n",
    "print(\"Column maximums:\")\n",
    "print(column_max)\n"
   ]
  },
  {
   "cell_type": "code",
   "execution_count": null,
   "id": "e4476f89",
   "metadata": {},
   "outputs": [],
   "source": []
  }
 ],
 "metadata": {
  "kernelspec": {
   "display_name": "Python 3 (ipykernel)",
   "language": "python",
   "name": "python3"
  },
  "language_info": {
   "codemirror_mode": {
    "name": "ipython",
    "version": 3
   },
   "file_extension": ".py",
   "mimetype": "text/x-python",
   "name": "python",
   "nbconvert_exporter": "python",
   "pygments_lexer": "ipython3",
   "version": "3.9.7"
  }
 },
 "nbformat": 4,
 "nbformat_minor": 5
}
